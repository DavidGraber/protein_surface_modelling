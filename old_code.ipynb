{
 "cells": [
  {
   "cell_type": "code",
   "execution_count": null,
   "metadata": {},
   "outputs": [],
   "source": [
    "print('run Poisson surface reconstruction')\n",
    "with o3d.utility.VerbosityContextManager(\n",
    "        o3d.utility.VerbosityLevel.Debug) as cm:\n",
    "    mesh, densities = o3d.geometry.TriangleMesh.create_from_point_cloud_poisson(\n",
    "        pointcloud, depth=9)\n",
    "print(mesh)\n",
    "o3d.visualization.draw_geometries([mesh],\n",
    "                                  zoom=0.664,\n",
    "                                  front=[-0.4761, -0.4698, -0.7434],\n",
    "                                  lookat=[0.2, 0.2, 0.2],\n",
    "                                  up=[0.2304, -0.8825, 0.4101])"
   ]
  },
  {
   "cell_type": "code",
   "execution_count": null,
   "metadata": {},
   "outputs": [],
   "source": [
    "def extract_geodesic_patch(coords, normals, center_index, radius):\n",
    "\n",
    "    cluster_point_idx = [center_index] # to save all the points that are within the geodesic radius\n",
    "    \n",
    "    #loop through all the points and check what their distance to the selected center point is\n",
    "    for index, point in enumerate(coords):\n",
    "        dist = np.linalg.norm(coords[center_index]-point)\n",
    "\n",
    "        # select only those points that are close to the center point and calculate their geodesic distance\n",
    "        if dist < radius and dist != 0:\n",
    "            #dij = dist+((1-np.dot(normals[index], center_norm))*dist)\n",
    "            dij = dist*(2-np.dot(normals[index], center_norm))# approximation of geodesic distance\n",
    "\n",
    "            # select only those points that are *geodesically* close to the center point\n",
    "            if dij < radius:\n",
    "                cluster_point_idx.append(index)\n",
    "    \n",
    "    return cluster_point_idx"
   ]
  },
  {
   "cell_type": "code",
   "execution_count": null,
   "metadata": {},
   "outputs": [],
   "source": [
    "def extract_geodesic_patch(coords, normals, center_index, radius):\n",
    "    \n",
    "    first_sel = [] #save indeces of first selection\n",
    "    cluster = [center_index] #save indeces of cluster-members\n",
    "    geod_distances_from_center = {center_index:0} #save geodesic distances to the center of cluster-members\n",
    "    \n",
    "    #loop through all the points and check what their distance to the selected center point is < radius\n",
    "    for index, point in enumerate(coords):\n",
    "        dist = np.linalg.norm(coords[center_index]-point)\n",
    "\n",
    "        # select only those points that are close to the center point (non-geodesically)\n",
    "        if dist < radius and dist != 0:\n",
    "            first_sel.append(index)\n",
    "\n",
    "            \n",
    "    while len(first_sel) != 0:\n",
    "        \n",
    "        # find the point in first_sel, which is closest to any point in the cluster\n",
    "        shortest_dist = 10^6\n",
    "        closest_in_sel = 10^6\n",
    "        closest_in_cluster = 10^6\n",
    "\n",
    "        # compare each element in first_sel with each element in cluster and approximate their geodesic distance\n",
    "        for sel in first_sel:\n",
    "            for point in cluster:\n",
    "                geo_dist = np.linalg.norm(coords[sel]-coords[point])*(2-np.dot(normals[sel], normals[point]))\n",
    "                if geo_dist < shortest_dist:\n",
    "                    closest_in_sel = sel\n",
    "                    closest_in_cluster = point\n",
    "                    shortest_dist = geo_dist\n",
    "\n",
    "        # check if the found closest point should be part of the cluster\n",
    "        dist_from_center = geod_distances_from_center[closest_in_cluster] + shortest_dist\n",
    "        if dist_from_center < radius:\n",
    "            # if yes, append its index to cluster, save its geod_dist_from_center and remove it from first_sel\n",
    "            cluster.append(closest_in_sel)\n",
    "            geod_distances_from_center[closest_in_sel]=dist_from_center\n",
    "            first_sel.remove(closest_in_sel)\n",
    "        else:\n",
    "            first_sel.remove(closest_in_sel)\n",
    "    \n",
    "    return cluster     "
   ]
  }
 ],
 "metadata": {
  "kernelspec": {
   "display_name": "Python 3.9.7 64-bit",
   "language": "python",
   "name": "python3"
  },
  "language_info": {
   "name": "python",
   "version": "3.9.7"
  },
  "orig_nbformat": 4,
  "vscode": {
   "interpreter": {
    "hash": "72f235a78b5cf937fd09c1593b6a0e4473f824a03930b62c2c7d9a177b9de8f3"
   }
  }
 },
 "nbformat": 4,
 "nbformat_minor": 2
}
